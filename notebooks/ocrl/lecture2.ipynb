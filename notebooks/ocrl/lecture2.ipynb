{
 "cells": [
  {
   "cell_type": "markdown",
   "metadata": {},
   "source": [
    "# Motivation\n",
    "\n",
    "- In general, we can't solve $\\dot{x} = f(x)$ for $x(t)$\n",
    "- Computationally, need to represent $x(t)$ with discrete $X_n$\n",
    "- Discrete-time models can capture some effects that cantinaous ODEs, can't"
   ]
  },
  {
   "cell_type": "markdown",
   "metadata": {},
   "source": [
    "# Discret-Time Dynamics\n",
    "\n",
    "Explicit Form:\n",
    "\n",
    "$$x_{n+1} = f_d(x_u, u_n)$$\n",
    "\n",
    "- Simplest discritization:\n",
    "\n",
    "Forward Euler Integration\n",
    "\n",
    "$$x_{n+1} = x_n + hf(x_u, u_n)$$\n",
    "\n",
    "where $h$ is time step\n",
    "\n",
    "- Pendulum sim:\n",
    "\n",
    "$$l = m = 1, \\ h =0.1, 0.01, 0.001$$\n"
   ]
  },
  {
   "cell_type": "markdown",
   "metadata": {},
   "source": [
    "# Stability of Discrete-Time Systems\n",
    "\n",
    "- In continuous time:\n",
    "\n",
    "$$Re[eigvals(\\frac{\\partial{f}}{\\partial{x}})] < 0 \\Rightarrow stable$$\n",
    "\n",
    "- In discrete time, dynamics is an iterated map:\n",
    "\n",
    "$$x_n = f_d(f_d(\\dots f_d(x_0)))$$\n",
    "\n",
    "- Linearize + apply chain rule:\n",
    "\n",
    "$$\\frac{\\partial{x_N}}{\\partial{x_0}} = \\frac{\\partial{f_d}}{\\partial{x}}\\vert_{x_0}\\frac{\\partial{f_d}}{\\partial{x}}\\vert_{x_0} \\dots \\frac{\\partial{f_d}}{\\partial{x}}\\vert_{x_0} = A_d^N$$\n",
    "\n",
    "- Assume $x=0$ is an equilibrisun\n",
    "\n",
    "$$ stable \\Rightarrow \\lim\\limits_{k \\to \\infty}A_d^kx_0 = 0 \\; \\forall x_0 \\\\ \\Rightarrow \\lim\\limits_{k \\to \\infty} A_d^n = 0 \\\\ \\Rightarrow \\vert eigvals(A_d) \\vert < 1$$\n",
    "\n",
    "- Let's do this for the pendulum + forward Euler\n",
    "\n",
    "$$x_{n+1} = x_n + hf(x_n)$$\n",
    "\n",
    "$$A_d = \\frac{\\partial{f_d}}{\\partial{x_n}} = I + hA = I + h \\begin{bmatrix}0 & 1 \\\\ -\\frac{q}{l}\\cos{x} & 0\\end{bmatrix}$$\n",
    "\n",
    "$$eigvals(A_a\\vert_{0:0}) \\approx 1 + 0.313i$$\n",
    "\n",
    "- Plot $\\vert eigvals(A_d) \\vert$ vs. $h$\n",
    "\n",
    "$$\\Rightarrow Only \\, (marginally) stable \\  as \\  h \\rightarrow 0$$\n"
   ]
  },
  {
   "cell_type": "markdown",
   "metadata": {},
   "source": [
    "* Take-away messages:\n",
    "\n",
    "  - Be careful when discreting ODEs\n",
    "  - Sanity check eg energy, momentum behavior\n",
    "  - Don't use forward Euler integration\n",
    "\n",
    "- A better explicit integrator:\n",
    "  - 4Th - Order Runge-Kutta Method\n",
    "  - Intvitior\n",
    "    - Euler fits a line segment over each time step\n",
    "    - RK4 fits a cubic polynomial $\\Rightarrow$ much better accuracy\n",
    "- Pseudo Code:\n",
    "\n",
    "$$X_{n+1} = f_d(X_n)$$\n",
    "$$K_1 = f(X_n)$$\n",
    "$$K_2 = f(X_n + \\frac{h}{2}K_1)$$\n",
    "$$K_3 = f(X_n + \\frac{h}{2}K_2)$$\n",
    "$$K_4 = f(X_n + \\frac{h}{2}K_3)$$\n",
    "$$X_{n+1} = X_n + \\frac{h}{6}(K_1 + 2K_2 + 2K_3 + 2K_4)$$\n"
   ]
  },
  {
   "cell_type": "markdown",
   "metadata": {},
   "source": [
    "* Take Away:\n",
    "\n",
    "- Accuracy win $\\gg$ addition compute cose\n",
    "- Even good integrators have issues -> always sanity check\n",
    "- Implicit Form: $f_d(X_{n+1}, X_n, u_m)=0$$\n",
    "- Simplest version: $X_{n+1} = X_n + hf(X_{n+1})$\n",
    "- How do we simulate\n",
    "  \n",
    "  write as:\n",
    "  $$f_d(X_{n+1}, X_n, u_n) = X_n + hf(X_{n+1}) - X_{n+1} = 0$$\n",
    "  - solve root-finding problem for $X_{n+1}$\n",
    "\n",
    "- Pendulum Sim:\n",
    "  - Opposite energy behavior from forward Euler\n",
    "  - Artificial dumping\n",
    "  - While unphysical, this allows simulators to take big steps and is often convenient\n",
    "    $\\Rightarrow$ Very common in low-fi similators in graphics/robotics\n",
    "\n",
    "Take-Aways:\n",
    "\n",
    "- Implicit methods typically \"more stable\" then explicit\n",
    "- For forward sim, implicit methods are generally more exensive\n",
    "- In many trajectery optimization methods they're not more expenssive"
   ]
  },
  {
   "cell_type": "markdown",
   "metadata": {},
   "source": []
  }
 ],
 "metadata": {
  "language_info": {
   "name": "python"
  }
 },
 "nbformat": 4,
 "nbformat_minor": 2
}
