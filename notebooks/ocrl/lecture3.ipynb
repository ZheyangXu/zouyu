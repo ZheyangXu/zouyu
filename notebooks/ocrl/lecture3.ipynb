{
 "cells": [
  {
   "cell_type": "markdown",
   "metadata": {},
   "source": [
    "# Some Notation:\n",
    "\n",
    "Given $f(x): \\mathcal{R^n} \\rightarrow \\mathcal{R}$, $\\frac{\\partial{f}}{\\partial{x}}\\in\\mathcal{R^{1\\times n}}$ is a row vector\n",
    "\n",
    "This is because $\\frac{\\partial{f}}{\\partial{x}}$ is the linear opertator mapping $\\triangle X$ into $\\triangle{f}$:\n",
    "\n",
    "$$f(x+\\triangle x) \\approx f(x) + \\frac{\\partial{f}}{\\partial{x}}\\triangle{x}$$\n",
    "\n",
    "Similarity $g(y): \\mathcal{R^m}\\rightarrow\\mathcal{R^n}$\n",
    "\n",
    "$$\\frac{\\partial{g}}{\\partial{y}} \\in \\mathcal{R^{n\\times m}}$$\n",
    "\n",
    "because:\n",
    "\n",
    "$$g(y + \\triangle{y}) \\approx g(y) + \\frac{\\partial{g}}{\\partial{y}}\\triangle{y}$$\n",
    "\n",
    "This conventions make the chain rule work:\n",
    "\n",
    "$$f(g(y + \\triangle{y})) \\approx f(g(y)) + \\frac{\\partial{f}}{\\partial{x}} \\vert_{g(y)} \\frac{\\partial{g}}{\\partial{y}}\\vert_{y}\\triangle{y}$$\n",
    "\n",
    "For convenience, we will define:\n",
    "\n",
    "$$\\nabla f(x) = (\\frac{\\partial{f}}{\\partial{x}})^T \\in \\mathcal{R}^{n \\times 1}$$\n",
    "$$\\nabla^2f(x) = \\frac{\\partial}{\\partial{x}}(\\nabla{f(x)}) = \\frac{\\partial^2f}{\\partial{x^2}} \\in \\mathcal{R}^{n\\times m}$$\n",
    "$$f(x+\\triangle{x}) \\approx f(x) + \\frac{\\partial{f}}{\\partial{x}} + \\frac{1}{2}\\triangle{x}^T\\frac{\\partial^2{f}}{\\partial{x^2}}\\triangle{x}$$"
   ]
  },
  {
   "cell_type": "markdown",
   "metadata": {},
   "source": [
    "# Root Finding\n",
    "\n",
    "- Given $f(x)$, find $x^{\\star}$ such that $f(x^{\\star}) = 0$\n",
    "- Example: equilibrivm of a continuous-time dynamics\n",
    "- Closely related: find point such that\n",
    "\n",
    "$$f(x^{\\star})=x^{\\star}$$\n",
    "\n",
    "* Example: equilibrivm of discrete-time dynamics\n",
    "* Fixed-point Itteration\n",
    "  * Simplest solution method\n",
    "  * If fixed point is stable, just \"itteractive the dynamics\" until it converges to $x^{\\star}$\n",
    "  * Only worse for stable $x^{\\star}$ and has slow convergence"
   ]
  },
  {
   "cell_type": "markdown",
   "metadata": {},
   "source": [
    "# Newton's Method\n",
    "\n",
    "- Fit a linear approximation to $f(x)$:\n",
    "\n",
    "$$f(x+\\triangle{x}) \\approx f(x) + \\frac{\\partial{f}}{\\partial{x}}\\vert_{x}\\triangle_{x}$$\n",
    "\n",
    "- Set approximation to zero and solve for $\\triangle{x}$:\n",
    "\n",
    "$$f(x) + \\frac{\\partial{f}}{\\partial{x}}\\triangle{x} = 0 \\Rightarrow \\triangle{x} = -(\\frac{\\partial{f}}{\\partial{x}})^{-1}f(x)$$\n",
    "\n",
    "- Apply correction\n",
    "\n",
    "$$x \\leftarrow x + \\triangle{x}$$\n",
    "\n",
    "- Repear until convergence\n",
    "- Example: Backword Euler\n",
    "  - Very fast convergence with Newton(Quadratic)\n",
    "  - Can get machine precision\n",
    "  - Most expensive part is solving a linear system $O(n^3)$\n",
    "  - Can improve complexity by taking advantage of problem structure(more later)"
   ]
  },
  {
   "cell_type": "markdown",
   "metadata": {},
   "source": [
    "# Minimization:\n",
    "\n",
    "$$\\min\\limits_x f(x), \\ f(x): \\mathcal{R}^n \\rightarrow \\mathcal{R}$$\n",
    "\n",
    "- If $f$ is smooth, $\\frac{\\partial{f}}{\\partial{x}}|_{x^{\\star}} = 0$ at a local minimum\n",
    "- Now we have a root-finding problem $\\triangledown f(x) = 0$ $\\Rightarrow$ Apply Newtown!\n",
    "\n",
    "$$\\triangledown f(x + \\triangle x) \\approx \\triangledown f(x) + \\frac{\\partial}{\\partial{x}}(\\triangledown f(x))\\triangle x = 0$$\n",
    "\n",
    "$$\\Rightarrow \\triangle x = -(\\triangledown^2f(x))^{-1}\\triangledown f(x)$$\n",
    "\n",
    "$$x \\leftarrow x + \\triangledown x$$\n",
    "\n",
    "repeat until convergence\n",
    "\n",
    "- Intiuition:\n",
    "  - Fit a quadratic approximation to $f(x)$\n",
    "  - Exactly minimize approximation\n",
    "\n",
    "\n",
    "- Example\n",
    "  \n",
    "$$\\min\\limits_x f(x) = x^4 + x^3 - ^2 - x$$\n",
    "\n",
    "start at: 1.0, -1.3 0.03"
   ]
  },
  {
   "cell_type": "markdown",
   "metadata": {},
   "source": [
    "# Take Away Messages\n",
    "\n",
    "- Newton is a local root-finding method will coverge to the closest fixed point to the initial guess(min, max, saddle).\n",
    "- Suffient Conditions\n",
    "  - $\\triangledown f(x) = 0$ \"first-order necessary condition\" for a minimum. Not a sufficient condition.\n",
    "  - Let's look at scalar case:\n",
    "  \n",
    "  $$\\triangle x = -(\\triangledown^2 f)^{-1}\\triangledown f$$\n",
    "  $$\\triangledown^2 f \\geq 0 \\Rightarrow descent (minimization)$$\n",
    "  $$\\triangledown^2 f \\le 0 \\Rightarrow ascent (maximization)$$\n",
    "\n",
    "  - IN $\\mathcal{R}^n$, $\\triangledown^2 f \\ge 0$, $\\triangledown^2 f \\in \\mathcal{S}^n_{++}$ $\\Rightarrow descent$\n",
    "  - If $\\triangledown^2 f(x) \\ge 0, \\quad \\forall x \\Leftrightarrow f(x)$ is strongly convex $\\Rightarrow$ can always solve with Newton\n",
    "  - Usually not free for hard/nonlinear problems\n",
    "\n",
    "- Regularization:\n",
    "  - Pratical solution tom make sure whire always minimizing\n",
    "  \n",
    "$$H \\leftarrow \\triangledown^2f$$\n",
    "while $H \\nsucc 0$ \n",
    "  $H \\leftarrow H + \\beta I(\\beta \\gt 0)$\n",
    "end\n",
    "$$\\triangle x = -H^{-1}\\triangledown f$$\n",
    "$$x \\leftarrow x + \\triangledown x$$\n",
    "\n",
    "- Also called damped Newton\n",
    "- Gvararities descent + shrinks step\n"
   ]
  },
  {
   "cell_type": "code",
   "execution_count": null,
   "metadata": {
    "vscode": {
     "languageId": "plaintext"
    }
   },
   "outputs": [],
   "source": []
  },
  {
   "cell_type": "markdown",
   "metadata": {},
   "source": []
  }
 ],
 "metadata": {
  "language_info": {
   "name": "python"
  }
 },
 "nbformat": 4,
 "nbformat_minor": 2
}
