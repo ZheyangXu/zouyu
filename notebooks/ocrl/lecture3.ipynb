{
 "cells": [
  {
   "cell_type": "markdown",
   "metadata": {},
   "source": [
    "# Some Notation:\n",
    "\n",
    "Given $f(x): \\mathcal{R^n} \\rightarrow \\mathcal{R}$, $\\frac{\\partial{f}}{\\partial{x}}\\in\\mathcal{R^{1\\times n}}$ is a row vector\n",
    "\n",
    "This is because $\\frac{\\partial{f}}{\\partial{x}}$ is the linear opertator mapping $\\triangle X$ into $\\triangle{f}$:\n",
    "\n",
    "$$f(x+\\triangle x) \\approx f(x) + \\frac{\\partial{f}}{\\partial{x}}\\triangle{x}$$\n",
    "\n",
    "Similarity $g(y): \\mathcal{R^m}\\rightarrow\\mathcal{R^n}$\n",
    "\n",
    "$$\\frac{\\partial{g}}{\\partial{y}} \\in \\mathcal{R^{n\\times m}}$$\n",
    "\n",
    "because:\n",
    "\n",
    "$$g(y + \\triangle{y}) \\approx g(y) + \\frac{\\partial{g}}{\\partial{y}}\\triangle{y}$$\n",
    "\n",
    "This conventions make the chain rule work:\n",
    "\n",
    "$$f(g(y + \\triangle{y})) \\approx f(g(y)) + \\frac{\\partial{f}}{\\partial{x}} \\vert_{g(y)} \\frac{\\partial{g}}{\\partial{y}}\\vert_{y}\\triangle{y}$$\n",
    "\n",
    "For convenience, we will define:\n",
    "\n",
    "$$\\nabla f(x) = (\\frac{\\partial{f}}{\\partial{x}})^T \\in \\mathcal{R}^{n \\times 1}$$\n",
    "$$\\nabla^2f(x) = \\frac{\\partial}{\\partial{x}}(\\nabla{f(x)}) = \\frac{\\partial^2f}{\\partial{x^2}} \\in \\mathcal{R}^{n\\times m}$$\n",
    "$$f(x+\\triangle{x}) \\approx f(x) + \\frac{\\partial{f}}{\\partial{x}} + \\frac{1}{2}\\triangle{x}^T\\frac{\\partial^2{f}}{\\partial{x^2}}\\triangle{x}$$"
   ]
  },
  {
   "cell_type": "markdown",
   "metadata": {},
   "source": []
  }
 ],
 "metadata": {
  "language_info": {
   "name": "python"
  }
 },
 "nbformat": 4,
 "nbformat_minor": 2
}
