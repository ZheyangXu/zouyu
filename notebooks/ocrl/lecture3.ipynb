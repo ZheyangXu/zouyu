{
 "cells": [
  {
   "cell_type": "markdown",
   "metadata": {},
   "source": [
    "# Some Notation:\n",
    "\n",
    "Given $f(x): \\mathcal{R^n} \\rightarrow \\mathcal{R}$, $\\frac{\\partial{f}}{\\partial{x}}\\in\\mathcal{R^{1\\times n}}$ is a row vector\n",
    "\n",
    "This is because $\\frac{\\partial{f}}{\\partial{x}}$ is the linear opertator mapping $\\triangle X$ into $\\triangle{f}$:\n",
    "\n",
    "$$f(x+\\triangle x) \\approx f(x) + \\frac{\\partial{f}}{\\partial{x}}\\triangle{x}$$\n",
    "\n",
    "Similarity $g(y): \\mathcal{R^m}\\rightarrow\\mathcal{R^n}$\n",
    "\n",
    "$$\\frac{\\partial{g}}{\\partial{y}} \\in \\mathcal{R^{n\\times m}}$$\n",
    "\n",
    "because:\n",
    "\n",
    "$$g(y + \\triangle{y}) \\approx g(y) + \\frac{\\partial{g}}{\\partial{y}}\\triangle{y}$$\n",
    "\n",
    "This conventions make the chain rule work:\n",
    "\n",
    "$$f(g(y + \\triangle{y})) \\approx f(g(y)) + \\frac{\\partial{f}}{\\partial{x}} \\vert_{g(y)} \\frac{\\partial{g}}{\\partial{y}}\\vert_{y}\\triangle{y}$$\n",
    "\n",
    "For convenience, we will define:\n",
    "\n",
    "$$\\nabla f(x) = (\\frac{\\partial{f}}{\\partial{x}})^T \\in \\mathcal{R}^{n \\times 1}$$\n",
    "$$\\nabla^2f(x) = \\frac{\\partial}{\\partial{x}}(\\nabla{f(x)}) = \\frac{\\partial^2f}{\\partial{x^2}} \\in \\mathcal{R}^{n\\times m}$$\n",
    "$$f(x+\\triangle{x}) \\approx f(x) + \\frac{\\partial{f}}{\\partial{x}} + \\frac{1}{2}\\triangle{x}^T\\frac{\\partial^2{f}}{\\partial{x^2}}\\triangle{x}$$"
   ]
  },
  {
   "cell_type": "markdown",
   "metadata": {},
   "source": [
    "# Root Finding\n",
    "\n",
    "- Given $f(x)$, find $x^{\\star}$ such that $f(x^{\\star}) = 0$\n",
    "- Example: equilibrivm of a continuous-time dynamics\n",
    "- Closely related: find point such that\n",
    "\n",
    "$$f(x^{\\star})=x^{\\star}$$\n",
    "\n",
    "* Example: equilibrivm of discrete-time dynamics\n",
    "* Fixed-point Itteration\n",
    "  * Simplest solution method\n",
    "  * If fixed point is stable, just \"itteractive the dynamics\" until it converges to $x^{\\star}$\n",
    "  * Only worse for stable $x^{\\star}$ and has slow convergence"
   ]
  },
  {
   "cell_type": "markdown",
   "metadata": {},
   "source": [
    "# Newton's Method\n",
    "\n",
    "- Fit a linear approximation to $f(x)$:\n",
    "\n",
    "$$f(x+\\triangle{x}) \\approx f(x) + \\frac{\\partial{f}}{\\partial{x}}\\vert_{x}\\triangle_{x}$$"
   ]
  },
  {
   "cell_type": "markdown",
   "metadata": {},
   "source": []
  }
 ],
 "metadata": {
  "language_info": {
   "name": "python"
  }
 },
 "nbformat": 4,
 "nbformat_minor": 2
}
