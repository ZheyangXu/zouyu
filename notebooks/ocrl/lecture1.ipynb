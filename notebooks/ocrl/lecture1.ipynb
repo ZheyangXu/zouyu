{
 "cells": [
  {
   "cell_type": "markdown",
   "metadata": {},
   "source": [
    "# Continuous Time Dynamics\n",
    "\n",
    "The most general/generic for a smooth system:\n",
    "\n",
    "$$\\dot{x} = f(x, u)$$\n",
    "\n",
    "where $x$ is state $x \\in \\mathbb{R}^n$, $\\dot{x}$ is state time derivative, $u$ is input $u \\in \\mathbb{R}^m$, $f$ is dynamics.\n",
    "\n",
    "For a mechanical system: \n",
    "\n",
    "$$x = \\begin{bmatrix} q \\\\ v \\end{bmatrix}$$"
   ]
  },
  {
   "cell_type": "markdown",
   "metadata": {},
   "source": [
    "Example Pendulum\n",
    "\n",
    "$$ml^2 \\ddot{\\theta} + mgl\\sin(\\theta) = \\tilde{l}$$\n",
    "\n",
    "where $q=\\theta$, $v=\\dot{\\theta}$, $u=\\tilde{l}$\n",
    "\n",
    "$$x=\\begin{bmatrix}\\theta \\\\ \\dot{\\theta} \\end{bmatrix} \\Rightarrow \\dot{x}=\\begin{bmatrix}\\dot{\\theta} \\\\ \\ddot{\\theta} \\end{bmatrix} = \\begin{bmatrix}\\dot{\\theta} \\\\ -\\frac{q}{l}\\sin(\\theta) + \\frac{1}{ml^2}u \\end{bmatrix}$$\n",
    "\n",
    "where $q \\in S^\\prime(circle)$, $x \\in S^\\prime \\times \\mathbb{R}(cylinder)$ "
   ]
  },
  {
   "cell_type": "markdown",
   "metadata": {},
   "source": [
    "# Control Affine Systems\n",
    "\n",
    "$$\\dot{x} = f_0(x) + B(x)u$$\n",
    "\n",
    "where $f_0(x)$ is drift, $B(x)u$ is input Jacobian.\n",
    "\n",
    "- most systems can be put in this form.\n",
    "- Pendulum:\n",
    "    $$f_0(x) = \\begin{bmatrix}\\dot\\theta \\\\ -\\frac{q}{l}\\sin(\\theta) \\end{bmatrix}$$"
   ]
  },
  {
   "cell_type": "markdown",
   "metadata": {},
   "source": [
    "# Manipulator Dynamics\n",
    "\n",
    "$$M(q)\\dot{v} + C(q, v) = B(q)u \\cdot F$$\n",
    "\n",
    "where $M(q)$ is Mass Matrix, $C(q, v)$ is Dynamic Bias, $B(q)$ is Input Jacobian.\n",
    "\n",
    "$$ \\dot{q} = G(q)v $$ \n",
    "\n",
    "Where this is Velocity Kinematics\n",
    "\n",
    "$$\\dot{x} = f(x, u) =  \\begin{bmatrix} G(q)v \\\\ M(q)^{-1}(B(q)u + F - C)\\end{bmatrix}$$\n",
    "\n",
    "## Pendulum\n",
    "\n",
    "$$M(q) = ml^2, \\ C(q, v) = mgl\\sin(\\theta), B = I, G = I$$\n",
    "\n",
    "- All mechanical systems can be written like this\n",
    "- This is just a way of rewriting the Euler-Lagrange equation for:\n",
    "\n",
    "$$L = \\frac{1}{2}v^{+}M(q)v - V(q)$$\n",
    "\n",
    "where item 1 is kinetic energy, item 2 is potential energy."
   ]
  },
  {
   "cell_type": "markdown",
   "metadata": {},
   "source": [
    "# Linear Systems\n",
    "\n",
    "$$\\dot{x} = A(t)(x) + B(t)u$$\n",
    "\n",
    "- Called `time invariant` if $A(t) = A$, $B(t) = B$\n",
    "- Called `time varying` otherwise\n",
    "- Super important in control\n",
    "- We often appraximate nonlinear system with liner ones:\n",
    "  \n",
    "  $$\\dot{x} = f(x, u) \\Rightarrow A=\\frac{\\partial{f}}{\\partial{x}}, \\  B = \\frac{\\partial{f}}{\\partial u}$$"
   ]
  },
  {
   "cell_type": "markdown",
   "metadata": {
    "vscode": {
     "languageId": "plaintext"
    }
   },
   "source": [
    "# Equilibria\n",
    "\n",
    "- A point where a system will remain at rest\n",
    "\n",
    "   $$\\Rightarrow \\dot{x} = f(x, u) = 0$$\n",
    "\n",
    "- Algebraically, roots of the dynamics\n",
    "- Pendulum:\n",
    "\n",
    "    $$\\dot{x} = \\begin{bmatrix}\\dot{\\theta} \\\\ -\\frac{q}{l}\\sin(\\theta)\\end{bmatrix} = \\begin{bmatrix}0 \\\\ 0 \\end{bmatrix} \\Rightarrow \\begin{matrix}\\dot{\\theta} = 0 \\\\ \\theta=0, \\pi\\end{matrix}$$\n"
   ]
  },
  {
   "cell_type": "markdown",
   "metadata": {},
   "source": [
    "# First Control Problem\n",
    "\n",
    "- Can I move the equilibria\n",
    "\n",
    "    $$\\dot{x} = \\begin{bmatrix}\\dot{\\theta} \\\\ -\\frac{q}{l}\\sin(\\frac{\\pi}{2}) + \\frac{1}{ml^2}u\\end{bmatrix} = \\begin{bmatrix}0 \\\\ 0\\end{bmatrix}$$\n",
    "\n",
    "    $$\\frac{1}{ml^2}u = \\frac{q}{l}\\sin(\\frac{\\pi}{2}) \\Rightarrow u = mgl$$\n",
    "\n",
    "- In general, we get a root-finding problem in $u$:\n",
    "\n",
    "    $$f(x, u) = 0$$"
   ]
  },
  {
   "cell_type": "markdown",
   "metadata": {},
   "source": [
    "# Stability of Equilibria\n",
    "\n",
    "- When will we stay \"near\" an equilibrium point under pertorbutions?\n",
    "- Look at a 1D system($x \\in \\mathbb{R}$)\n",
    "  $$\\frac{\\partial{f}}{\\partial{x}} < 0 \\Rightarrow stable, \\  \\frac{\\partial{f}}{\\partial{x}} > 0 \\Rightarrow unstable$$\n",
    "- In higher dimensions: $\\frac{\\partial{f}}{\\partial{x}}$ is a Jacobian Matrix.\n",
    "- Take an eigendecmposition $\\Rightarrow$ decomple into n 1D systems\n",
    "    $$\\Re[eigvals(\\frac{\\partial{f}}{\\partial{x}})] < 0 \\Rightarrow stable \\\\ otherwise \\Rightarrow unstable$$\n",
    "\n",
    "- Pendulum:\n",
    "\n",
    "    $$f(x) = \\begin{bmatrix}\\dot{\\theta} \\\\ -\\frac{q}{l}\\sin(\\theta)\\end{bmatrix} \\Rightarrow \\frac{\\partial{f}}{\\partial{x}} = \\begin{bmatrix}0 \\ 1 \\\\ -\\frac{q}{l}\\cos(\\theta) \\ 0\\end{bmatrix}$$\n",
    "\n",
    "    $$\\frac{\\partial{f}}{\\partial{x}}\\lvert_{\\theta=\\pi} = \\begin{bmatrix}0 \\ 1 \\\\ -\\frac{q}{l} \\ 0\\end{bmatrix} \\Rightarrow eigvals(\\frac{\\partial{f}}{\\partial{x}} = \\pm \\dot{l}\\sqrt{\\frac{q}{l}} \\\\ \\Rightarrow undamped \\; oscillations$$\n",
    "\n",
    "- Add damping (e.g. $u=-k_d\\dot{\\theta}$) results in strictly negative real part."
   ]
  },
  {
   "cell_type": "markdown",
   "metadata": {},
   "source": []
  }
 ],
 "metadata": {
  "kernelspec": {
   "display_name": "base",
   "language": "python",
   "name": "python3"
  },
  "language_info": {
   "name": "python",
   "version": "3.12.9"
  }
 },
 "nbformat": 4,
 "nbformat_minor": 2
}
