{
 "cells": [
  {
   "cell_type": "markdown",
   "metadata": {},
   "source": [
    "# Linear Search\n",
    "\n",
    "- Often $\\triangle x$ step from Newton overshoots the minimum\n",
    "- To fix this, check $f(x + \\triangle x)$ and bachtrack until we get a good reduction\n",
    "- Many Strategics\n",
    "- A simple effecfive one is Armijo Rule\n",
    "\n",
    "$$\\alpha = 1$$\n",
    "$$while f(x + \\alpha\\triangle{x}) \\gt f(x) + b\\alpha\\triangledown f(x)^T\\triangle x$$\n",
    "  $$\\alpha \\leftarrow c\\alpha$$\n",
    "end\n",
    "\n",
    "- Intuition:\n",
    "  - Make sure step agress with linearization within some tolerance $b$\n",
    "- Typical values: $c=\\frac{1}{2}$, $b = 10^{-4} ~ 0.1$\n",
    "- Take Away:\n",
    "  - Newton with sinple cheap modifications(globalization strategics) is extremely effecfive at finding local optimn\n",
    "  "
   ]
  },
  {
   "cell_type": "markdown",
   "metadata": {},
   "source": [
    "# Equality Constraints\n",
    "\n",
    "$$\\min\\limits_x f(x) \\leftarrow f(x): \\mathcal{R}^n \\rightarrow \\mathcal{R}$$\n",
    "$$s.t. C(x) = 0 \\leftarrow C(x): \\mathcal{R}^n \\rightarrow \\mathcal{R}^m$$\n",
    "\n",
    "- First-Order Necessary Conditions:\n",
    "  - Need $\\triangledown f(x)= 0$ in free direction\n",
    "  - Need $C(x) = 0$\n",
    "\n",
    "- Any non-zero component of $\\triangle f$ must be normal to the constraint surface/manifold\n",
    "  \n",
    "$$\\Rightarrow \\triangledown f + \\lambda\\triangledown C = 0$$\n",
    "\n",
    "- In general:\n",
    "\n",
    "\n",
    "$$\\frac{\\partial{f}}{\\partial{x}} + \\lambda^T\\frac{\\partial{c}}{\\partial{x}} = 0, \\quad \\lambda \\in \\mathcal{R}^m$$\n",
    "\n",
    "- Based on this gradient condition, we define:\n",
    "\n",
    "$$L(x, \\lambda) = f(x) + \\lambda^TC(x)$$\n",
    "\n",
    "- Such that:\n",
    "\n",
    "$$\\bigtriangledown_{x}L(x, \\lambda) = \\bigtriangledown{f} + (\\frac{\\partial{C}}{\\partial{x}})^T\\lambda = 0$$\n",
    "$$\\bigtriangledown_{\\lambda}L(x, \\lambda) = C(x) = 0$$\n",
    "\n",
    "- We can solve this with Newton:\n",
    "\n",
    "$$\\bigtriangledown_{x}L(x + \\triangledown{x}, \\lambda + \\triangledown\\lambda) \\approx \\bigtriangledown_{x}L(x, \\lambda) + \\frac{\\partial^2L}{\\partial{x^2}}\\triangle{x} + \\frac{\\partial^2{L}}{\\partial{x}\\partial{y}}\\triangle\\lambda = 0$$\n",
    "\n",
    "$$\\bigtriangledown_{\\lambda}L(x + \\triangle{x}, \\lambda + \\triangle{\\lambda}) \\approx C(x) + \\frac{\\partial{c}}{\\partial{x}}\\triangle{x} = 0$$\n",
    "\n",
    "$$\\begin{bmatrix}\\frac{\\partial^2L}{\\partial{x^2}} & (\\frac{\\partial{c}}{\\partial{x}})^T \\\\ \\frac{\\partial{c}}{\\partial{x}} & 0\\end{bmatrix}\\begin{bmatrix}\\triangle{x} \\\\ \\triangle{\\lambda}\\end{bmatrix} = \\begin{bmatrix}-\\triangledown_{x}L(x, \\lambda) \\\\ -C(x)\\end{bmatrix}$$\n",
    "\n",
    "where is KKT System.\n",
    "\n",
    "- Gauss-Newton Method:\n",
    "\n",
    "    $$\\frac{\\partial^2{L}}{\\partial{x^2}} = \\triangledown^2f + \\frac{\\partial}{\\partial{x}}[(\\frac{\\partial{c}}{\\partial{x}})^T\\lambda]$$\n",
    "\n",
    "  - We often drop the $2^{nd}$ constraint cornture term\n",
    "  - Called Gauss - Newton\n",
    "  - Slightly slower convergence than full Newton(more itterations) but: Herations are cheaper $\\Rightarrow$ often wins in wall-clock time\n",
    "  \n",
    "- Example:\n",
    "  - start at $[-1, -1], \\quad [-3, 2]$\n",
    "\n",
    "- Take Aways:\n",
    "  - May still need to reguliarize $\\frac{\\partial^2{L}}{\\partial{x^2}}$ even if $\\bigtriangledown^2f \\gt 0$\n",
    "  - Gauss-Newton is often used in practice"
   ]
  },
  {
   "cell_type": "markdown",
   "metadata": {},
   "source": [
    "# Inequality Constraints\n",
    "\n",
    "$$\\min\\limits_{x} f(x) \\\\ s.t. C(X) \\leq 0$$\n",
    "\n",
    "- We'll just look at inequalities for now\n",
    "- Just combine with previews methods to handle both kinds of constraints\n",
    "\n",
    "## First-Order Necessary Conditions:\n",
    "\n",
    "1. $\\bigtriangledown f = 0$ in the free directions\n",
    "2. $C(x) \\leq 0$\n",
    "\n",
    "$$KKT \\: Conditions \\begin{cases}\\triangledown{f} + (\\frac{\\partial{C}}{\\partial{x}})^{\\tau}\\lambda & = 0 & \\leftarrow stationarity\\\\ C(x) & \\leq 0 & \\leftarrow primal \\: feasibility \\\\ \\lambda & \\geq 0 & \\leftarrow dual \\: feasibility \\\\ \\lambda \\odot C(x) = \\lambda^T C(x) & = 0 & \\leftarrow complementarity \\end{cases}$$\n",
    "\n",
    "## Intuition\n",
    "\n",
    "- If constraint is active $(C(x) = 0 \\Rightarrow \\lambda \\gt 0$\n",
    "- If constraint is inactive $(C(x) \\lt 0) \\Rightarrow \\lambda = 0$\n",
    "- Complementarity corcodes onlett switching"
   ]
  },
  {
   "cell_type": "markdown",
   "metadata": {},
   "source": [
    "$$\\min\\limits_{x} \\frac{1}{2}x^TQx + q^T x,  Q \\gt 0 \\\\ s.t. & \\quad Ax \\leq b \\\\ \\quad Cx=d$$\n"
   ]
  }
 ],
 "metadata": {
  "language_info": {
   "name": "python"
  }
 },
 "nbformat": 4,
 "nbformat_minor": 2
}
