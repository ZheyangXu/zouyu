{
 "cells": [
  {
   "cell_type": "markdown",
   "metadata": {},
   "source": [
    "# Linear Search\n",
    "\n",
    "- Often $\\triangle x$ step from Newton overshoots the minimum\n",
    "- To fix this, check $f(x + \\triangle x)$ and bachtrack until we get a good reduction\n",
    "- Many Strategics\n",
    "- A simple effecfive one is Armijo Rule\n",
    "\n",
    "$$\\alpha = 1$$\n",
    "$$while f(x + \\alpha\\triangle{x}) \\gt f(x) + b\\alpha\\triangledown f(x)^T\\triangle x$$\n",
    "  $$\\alpha \\leftarrow c\\alpha$$\n",
    "end\n",
    "\n",
    "- Intuition:\n",
    "  - Make sure step agress with linearization within some tolerance $b$\n",
    "- Typical values: $c=\\frac{1}{2}$, $b = 10^{-4} ~ 0.1$\n",
    "- Take Away:\n",
    "  - Newton with sinple cheap modifications(globalization strategics) is extremely effecfive at finding local optimn\n",
    "  "
   ]
  },
  {
   "cell_type": "markdown",
   "metadata": {},
   "source": [
    "# Equality Constraints\n",
    "\n",
    "$$\\min\\limits_x f(x) \\leftarrow f(x): \\mathcal{R}^n \\rightarrow \\mathcal{R}$$\n",
    "$$s.t. C(x) = 0 \\leftarrow C(x): \\mathcal{R}^n \\rightarrow \\mathcal{R}^m$$\n",
    "\n",
    "- First-Order Necessary Conditions:\n",
    "  - Need $\\triangledown f(x)= 0$ in free direction\n",
    "  - Need $C(x) = 0$\n",
    "\n",
    "- Any non-zero component of $\\triangle f$ must be normal to the constraint surface/manifold\n",
    "  \n",
    "$$\\Rightarrow \\triangledown f + \\lambda\\triangledown C = 0$$\n",
    "\n",
    "- In general:\n",
    "\n",
    "\n",
    "$$\\frac{\\partial{f}}{\\partial{x}} + \\lambda^T\\frac{\\partial{c}}{\\partial{x}} = 0, \\quad \\lambda \\in \\mathcal{R}^m$$\n",
    "\n",
    "- Based on this gradient condition, we define:\n",
    "\n",
    "$$L(x, \\lambda) = f(x) + \\lambda^TC(x)$$\n",
    "\n",
    "- Such that:\n",
    "\n",
    "$$\\bigtriangledown_{x}L(x, \\lambda) = \\bigtriangledown{f} + (\\frac{\\partial{C}}{\\partial{x}})^T\\lambda = 0$$\n",
    "$$\\bigtriangledown_{\\lambda}L(x, \\lambda) = C(x) = 0$$"
   ]
  },
  {
   "cell_type": "markdown",
   "metadata": {},
   "source": []
  }
 ],
 "metadata": {
  "language_info": {
   "name": "python"
  }
 },
 "nbformat": 4,
 "nbformat_minor": 2
}
