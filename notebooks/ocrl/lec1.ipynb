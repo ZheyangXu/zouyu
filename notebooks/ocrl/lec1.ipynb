{
 "cells": [
  {
   "cell_type": "markdown",
   "metadata": {},
   "source": [
    "# Continuous Time Dynamics\n",
    "\n",
    "The most general/generic for a smooth system:\n",
    "\n",
    "$$\\dot{x} = f(x, u)$$\n",
    "\n",
    "where $x$ is state $x \\in \\mathbb{R}^n$, $\\dot{x}$ is state time derivative, $u$ is input $u \\in \\mathbb{R}^m$, $f$ is dynamics.\n",
    "\n",
    "For a mechanical system: \n",
    "\n",
    "$$x = \\begin{bmatrix} q \\\\ v \\end{bmatrix}$$"
   ]
  },
  {
   "cell_type": "markdown",
   "metadata": {},
   "source": [
    "Example Pendulum\n",
    "\n",
    "$$ml^2 \\ddot{\\theta} + mgl\\sin(\\theta) = \\tilde{l}$$\n",
    "\n",
    "where $q=\\theta$, $v=\\dot{\\theta}$, $u=\\tilde{l}$\n",
    "\n",
    "$$x=\\begin{bmatrix}\\theta \\\\ \\dot{\\theta} \\end{bmatrix} \\rightarrow \\dot{x}=\\begin{bmatrix}\\dot{\\theta} \\\\ \\ddot{\\theta} \\end{bmatrix} = \\begin{bmatrix}\\dot{\\theta} \\\\ -\\frac{q}{l}\\sin(\\theta) + \\frac{1}{ml^2}u \\end{bmatrix}$$\n",
    "\n",
    "where $q \\in S^\\prime(circle)$, $x \\in S^\\prime \\times \\mathbb{R}(cylinder)$ "
   ]
  },
  {
   "cell_type": "markdown",
   "metadata": {},
   "source": [
    "# Control Affine Systems\n",
    "\n",
    "$$\\dot{x} = f_0(x) + B(x)u$$\n",
    "\n",
    "where $f_0(x)$ is drift, $B(x)u$ is input Jacobian.\n",
    "\n",
    "- most systems can be put in this form.\n",
    "- Pendulum:\n",
    "    $$f_0(x) = \\begin{bmatrix}\\dot\\theta \\\\ -\\frac{q}{l}\\sin(\\theta) \\end{bmatrix}$$"
   ]
  },
  {
   "cell_type": "markdown",
   "metadata": {},
   "source": [
    "# Manipulator Dynamics\n",
    "\n",
    "$$M(q)\\dot{v} + C(q, v) = B(q)u \\cdot F$$\n",
    "\n",
    "where $M(q)$ is Mass Matrix, $C(q, v)$ is Dynamic Bias, $B(q)$ is Input Jacobian.\n",
    "\n",
    "$$ \\dot{q} = G(q)v $$ \n",
    "\n",
    "Where this is Velocity Kinematics\n",
    "\n",
    "$$\\dot{x} = f(x, u) =  \\begin{bmatrix} G(q)v \\\\ M(q)^{-1}(B(q)u + F - C)\\end{bmatrix}$$\n",
    "\n",
    "## Pendulum\n",
    "\n",
    "$$M(q) = ml^2, \\ C(q, v) = mgl\\sin(\\theta), B = I, G = I$$\n",
    "\n",
    "- All mechanical systems can be written like this\n",
    "- This is just a way of rewriting the Euler-Lagrange equation for:\n",
    "\n",
    "$$L = \\frac{1}{2}v^{+}M(q)v - V(q)$$\n",
    "\n",
    "where item 1 is kinetic energy, item 2 is potential energy."
   ]
  },
  {
   "cell_type": "markdown",
   "metadata": {},
   "source": []
  }
 ],
 "metadata": {
  "kernelspec": {
   "display_name": "base",
   "language": "python",
   "name": "python3"
  },
  "language_info": {
   "name": "python",
   "version": "3.12.9"
  }
 },
 "nbformat": 4,
 "nbformat_minor": 2
}
